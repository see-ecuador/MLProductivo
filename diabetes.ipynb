{
  "nbformat": 4,
  "nbformat_minor": 0,
  "metadata": {
    "kernelspec": {
      "display_name": "Python 3",
      "language": "python",
      "name": "python3"
    },
    "language_info": {
      "codemirror_mode": {
        "name": "ipython",
        "version": 3
      },
      "file_extension": ".py",
      "mimetype": "text/x-python",
      "name": "python",
      "nbconvert_exporter": "python",
      "pygments_lexer": "ipython3",
      "version": "3.8.3"
    },
    "colab": {
      "name": "Copia de prep_model.ipynb",
      "provenance": []
    }
  },
  "cells": [
    {
      "cell_type": "markdown",
      "metadata": {
        "id": "PhE1sJwIvKof"
      },
      "source": [
        "# Data Preparation and Model"
      ]
    },
    {
      "cell_type": "code",
      "metadata": {
        "id": "8uGmlaAgvKog"
      },
      "source": [
        "import pandas as pd\n",
        "import numpy as np"
      ],
      "execution_count": 2,
      "outputs": []
    },
    {
      "cell_type": "code",
      "metadata": {
        "id": "UWP1VXzBvKoh"
      },
      "source": [
        "# set seed for reproducibility\n",
        "SEED = 20\n",
        "np.random.seed(SEED)"
      ],
      "execution_count": 3,
      "outputs": []
    },
    {
      "cell_type": "code",
      "metadata": {
        "id": "PUSbrWWNvKoi",
        "colab": {
          "base_uri": "https://localhost:8080/",
          "height": 203
        },
        "outputId": "ba241578-202a-4769-fa69-5eb7972cf91f"
      },
      "source": [
        "# Loading Data\n",
        "df = pd.read_csv('diabetes.csv')\n",
        "df.head()"
      ],
      "execution_count": 4,
      "outputs": [
        {
          "output_type": "execute_result",
          "data": {
            "text/html": [
              "<div>\n",
              "<style scoped>\n",
              "    .dataframe tbody tr th:only-of-type {\n",
              "        vertical-align: middle;\n",
              "    }\n",
              "\n",
              "    .dataframe tbody tr th {\n",
              "        vertical-align: top;\n",
              "    }\n",
              "\n",
              "    .dataframe thead th {\n",
              "        text-align: right;\n",
              "    }\n",
              "</style>\n",
              "<table border=\"1\" class=\"dataframe\">\n",
              "  <thead>\n",
              "    <tr style=\"text-align: right;\">\n",
              "      <th></th>\n",
              "      <th>PatientID</th>\n",
              "      <th>Pregnancies</th>\n",
              "      <th>PlasmaGlucose</th>\n",
              "      <th>DiastolicBloodPressure</th>\n",
              "      <th>TricepsThickness</th>\n",
              "      <th>SerumInsulin</th>\n",
              "      <th>BMI</th>\n",
              "      <th>DiabetesPedigree</th>\n",
              "      <th>Age</th>\n",
              "      <th>Diabetic</th>\n",
              "    </tr>\n",
              "  </thead>\n",
              "  <tbody>\n",
              "    <tr>\n",
              "      <th>0</th>\n",
              "      <td>1354778</td>\n",
              "      <td>0</td>\n",
              "      <td>171</td>\n",
              "      <td>80</td>\n",
              "      <td>34</td>\n",
              "      <td>23</td>\n",
              "      <td>43.509726</td>\n",
              "      <td>1.213191</td>\n",
              "      <td>21</td>\n",
              "      <td>0</td>\n",
              "    </tr>\n",
              "    <tr>\n",
              "      <th>1</th>\n",
              "      <td>1147438</td>\n",
              "      <td>8</td>\n",
              "      <td>92</td>\n",
              "      <td>93</td>\n",
              "      <td>47</td>\n",
              "      <td>36</td>\n",
              "      <td>21.240576</td>\n",
              "      <td>0.158365</td>\n",
              "      <td>23</td>\n",
              "      <td>0</td>\n",
              "    </tr>\n",
              "    <tr>\n",
              "      <th>2</th>\n",
              "      <td>1640031</td>\n",
              "      <td>7</td>\n",
              "      <td>115</td>\n",
              "      <td>47</td>\n",
              "      <td>52</td>\n",
              "      <td>35</td>\n",
              "      <td>41.511523</td>\n",
              "      <td>0.079019</td>\n",
              "      <td>23</td>\n",
              "      <td>0</td>\n",
              "    </tr>\n",
              "    <tr>\n",
              "      <th>3</th>\n",
              "      <td>1883350</td>\n",
              "      <td>9</td>\n",
              "      <td>103</td>\n",
              "      <td>78</td>\n",
              "      <td>25</td>\n",
              "      <td>304</td>\n",
              "      <td>29.582192</td>\n",
              "      <td>1.282870</td>\n",
              "      <td>43</td>\n",
              "      <td>1</td>\n",
              "    </tr>\n",
              "    <tr>\n",
              "      <th>4</th>\n",
              "      <td>1424119</td>\n",
              "      <td>1</td>\n",
              "      <td>85</td>\n",
              "      <td>59</td>\n",
              "      <td>27</td>\n",
              "      <td>35</td>\n",
              "      <td>42.604536</td>\n",
              "      <td>0.549542</td>\n",
              "      <td>22</td>\n",
              "      <td>0</td>\n",
              "    </tr>\n",
              "  </tbody>\n",
              "</table>\n",
              "</div>"
            ],
            "text/plain": [
              "   PatientID  Pregnancies  PlasmaGlucose  ...  DiabetesPedigree  Age  Diabetic\n",
              "0    1354778            0            171  ...          1.213191   21         0\n",
              "1    1147438            8             92  ...          0.158365   23         0\n",
              "2    1640031            7            115  ...          0.079019   23         0\n",
              "3    1883350            9            103  ...          1.282870   43         1\n",
              "4    1424119            1             85  ...          0.549542   22         0\n",
              "\n",
              "[5 rows x 10 columns]"
            ]
          },
          "metadata": {
            "tags": []
          },
          "execution_count": 4
        }
      ]
    },
    {
      "cell_type": "code",
      "metadata": {
        "id": "KhB02KkjvKoj"
      },
      "source": [
        "# Replacing all 0 values with Null values\n",
        "def replace_zero(df):\n",
        "    df.drop(\"PatientID\",axis=1,inplace=True)\n",
        "    df_nan=df.copy(deep=True)\n",
        "    cols = [\"PlasmaGlucose\",\"DiastolicBloodPressure\",\"TricepsThickness\",\"SerumInsulin\",\"BMI\"]\n",
        "    df_nan[cols] = df_nan[cols].replace({0:np.nan})\n",
        "    return df_nan\n",
        "df_nan=replace_zero(df)"
      ],
      "execution_count": 5,
      "outputs": []
    },
    {
      "cell_type": "code",
      "metadata": {
        "id": "Jbl_llW6vKoj"
      },
      "source": [
        "def find_median(frame,var):\n",
        "    temp = frame[frame[var].notnull()]\n",
        "    temp = frame[[var,'Diabetic']].groupby('Diabetic')[[var]].median().reset_index()\n",
        "    return temp"
      ],
      "execution_count": 6,
      "outputs": []
    },
    {
      "cell_type": "code",
      "metadata": {
        "id": "qo7daUknvKok"
      },
      "source": [
        "def replace_null(frame,var):\n",
        "    median_df=find_median(frame,var)\n",
        "    var_0=median_df[var].iloc[0]\n",
        "    var_1=median_df[var].iloc[1]\n",
        "    frame.loc[(frame['Diabetic'] == 0) & (frame[var].isnull()), var] = var_0\n",
        "    frame.loc[(frame['Diabetic'] == 1) & (frame[var].isnull()), var] = var_1\n",
        "    return frame[var].isnull().sum()"
      ],
      "execution_count": 7,
      "outputs": []
    },
    {
      "cell_type": "code",
      "metadata": {
        "id": "-v3kpOfnvKok",
        "colab": {
          "base_uri": "https://localhost:8080/"
        },
        "outputId": "142ccbf5-2b59-4e99-db68-cb640c09f0c5"
      },
      "source": [
        "print(str(replace_null(df_nan,'PlasmaGlucose'))+ ' Nulls for Glucose')\n",
        "print(str(replace_null(df_nan,'TricepsThickness'))+ ' Nulls for SkinThickness')\n",
        "print(str(replace_null(df_nan,'SerumInsulin'))+ ' Nulls for Insulin')\n",
        "print(str(replace_null(df_nan,'BMI'))+ ' Nulls for BMI')\n",
        "print(str(replace_null(df_nan,'DiastolicBloodPressure'))+ ' Nulls for BloodPressure')\n",
        "# We have successfully handled Nulls"
      ],
      "execution_count": 8,
      "outputs": [
        {
          "output_type": "stream",
          "text": [
            "0 Nulls for Glucose\n",
            "0 Nulls for SkinThickness\n",
            "0 Nulls for Insulin\n",
            "0 Nulls for BMI\n",
            "0 Nulls for BloodPressure\n"
          ],
          "name": "stdout"
        }
      ]
    },
    {
      "cell_type": "code",
      "metadata": {
        "id": "RMVNjkkHvKok",
        "colab": {
          "base_uri": "https://localhost:8080/"
        },
        "outputId": "eee36f9c-a88c-4fc0-b8c5-e55c2e3b96d3"
      },
      "source": [
        "df_nan.isnull().sum()\n",
        "# Just a confirmation\n",
        "# Everything looks good"
      ],
      "execution_count": 9,
      "outputs": [
        {
          "output_type": "execute_result",
          "data": {
            "text/plain": [
              "Pregnancies               0\n",
              "PlasmaGlucose             0\n",
              "DiastolicBloodPressure    0\n",
              "TricepsThickness          0\n",
              "SerumInsulin              0\n",
              "BMI                       0\n",
              "DiabetesPedigree          0\n",
              "Age                       0\n",
              "Diabetic                  0\n",
              "dtype: int64"
            ]
          },
          "metadata": {
            "tags": []
          },
          "execution_count": 9
        }
      ]
    },
    {
      "cell_type": "code",
      "metadata": {
        "id": "G8EIPWOVxddE",
        "colab": {
          "base_uri": "https://localhost:8080/"
        },
        "outputId": "55830c67-f18d-4b21-83e2-01b4a02f64d4"
      },
      "source": [
        "df.columns"
      ],
      "execution_count": 10,
      "outputs": [
        {
          "output_type": "execute_result",
          "data": {
            "text/plain": [
              "Index(['Pregnancies', 'PlasmaGlucose', 'DiastolicBloodPressure',\n",
              "       'TricepsThickness', 'SerumInsulin', 'BMI', 'DiabetesPedigree', 'Age',\n",
              "       'Diabetic'],\n",
              "      dtype='object')"
            ]
          },
          "metadata": {
            "tags": []
          },
          "execution_count": 10
        }
      ]
    },
    {
      "cell_type": "code",
      "metadata": {
        "id": "NTNaNlbZF8jR"
      },
      "source": [
        "X = df_nan.drop(\"Diabetic\",axis=1)\n",
        "Y = df_nan[\"Diabetic\"]"
      ],
      "execution_count": 11,
      "outputs": []
    },
    {
      "cell_type": "code",
      "metadata": {
        "id": "2FN6aKQCvKom",
        "colab": {
          "base_uri": "https://localhost:8080/"
        },
        "outputId": "c1e44404-5cdc-41d3-df6a-d2f731ffb1db"
      },
      "source": [
        "Y.head()"
      ],
      "execution_count": 13,
      "outputs": [
        {
          "output_type": "execute_result",
          "data": {
            "text/plain": [
              "0    0\n",
              "1    0\n",
              "2    0\n",
              "3    1\n",
              "4    0\n",
              "Name: Diabetic, dtype: int64"
            ]
          },
          "metadata": {
            "tags": []
          },
          "execution_count": 13
        }
      ]
    },
    {
      "cell_type": "code",
      "metadata": {
        "id": "5-zf9W2FvKom"
      },
      "source": [
        "#Keeping train  size as 0.8\n",
        "from sklearn.model_selection import train_test_split\n",
        "X_train,X_test,Y_train,Y_test = train_test_split(X,Y,test_size=0.2,random_state=20, stratify=Y)\n"
      ],
      "execution_count": 14,
      "outputs": []
    },
    {
      "cell_type": "code",
      "metadata": {
        "id": "flFTPY0gvKon"
      },
      "source": [
        "# We are good to go with baseline model\n",
        "# Let's first implement KNN\n",
        "from sklearn.neighbors import KNeighborsClassifier\n",
        "test_scores = []\n",
        "train_scores = []\n",
        "for i in range(5,15):\n",
        "    neigh = KNeighborsClassifier(n_neighbors=i)\n",
        "    neigh.fit(X_train, Y_train)\n",
        "    train_scores.append(neigh.score(X_train,Y_train))\n",
        "    test_scores.append(neigh.score(X_test,Y_test))"
      ],
      "execution_count": 15,
      "outputs": []
    },
    {
      "cell_type": "code",
      "metadata": {
        "id": "HVviNX4xvKon",
        "colab": {
          "base_uri": "https://localhost:8080/"
        },
        "outputId": "3356f86b-4369-45b5-a92f-fb881ebc68f8"
      },
      "source": [
        "print('Max train_scores is ' + str(max(train_scores)*100) + ' for k = '+ \n",
        "      str(train_scores.index(max(train_scores))+5))"
      ],
      "execution_count": 43,
      "outputs": [
        {
          "output_type": "stream",
          "text": [
            "Max train_scores is 88.84166666666667 for k = 5\n"
          ],
          "name": "stdout"
        }
      ]
    },
    {
      "cell_type": "code",
      "metadata": {
        "id": "pTxxIwGuvKoo",
        "colab": {
          "base_uri": "https://localhost:8080/"
        },
        "outputId": "37cb0433-4384-487d-ab80-866af0f842d2"
      },
      "source": [
        "print('Max test_scores is ' + str(max(test_scores)*100) + ' for k = '+ \n",
        "      str(test_scores.index(max(test_scores))+5))\n",
        "# K=13 has generalized well for our data.\n",
        "\n",
        "knn = max(test_scores)*100"
      ],
      "execution_count": 44,
      "outputs": [
        {
          "output_type": "stream",
          "text": [
            "Max test_scores is 84.93333333333334 for k = 13\n"
          ],
          "name": "stdout"
        }
      ]
    },
    {
      "cell_type": "code",
      "metadata": {
        "id": "4wCBR6N_vKoo"
      },
      "source": [
        "# Lets try Logistic regression now\n",
        "from sklearn.linear_model import LogisticRegression\n",
        "log_model = LogisticRegression(random_state=20, penalty='l2',max_iter=1000).fit(X_train, Y_train)\n",
        "log_pred=log_model.predict(X_test)\n",
        "log_model.score(X_test, Y_test)\n",
        "\n",
        "lr = log_model.score(X_test, Y_test) * 100"
      ],
      "execution_count": 45,
      "outputs": []
    },
    {
      "cell_type": "code",
      "metadata": {
        "id": "BcDqpLztvKoo"
      },
      "source": [
        "# Support Vector Machines\n",
        "from sklearn import svm\n",
        "svm_model = svm.SVC().fit(X_train, Y_train)\n",
        "svm_pred=svm_model.predict(X_test)\n",
        "svm_model.score(X_test, Y_test)\n",
        "# Almost 82% Accuracy\n",
        "\n",
        "svm = svm_model.score(X_test, Y_test) * 100"
      ],
      "execution_count": 48,
      "outputs": []
    },
    {
      "cell_type": "code",
      "metadata": {
        "id": "uh232VVjvKoq"
      },
      "source": [
        "# Random Forest\n",
        "from sklearn.ensemble import RandomForestClassifier\n",
        "rf_model = RandomForestClassifier(max_depth=2, random_state=20).fit(X_train, Y_train)\n",
        "rf_pred=rf_model.predict(X_test)\n",
        "rf_model.score(X_test, Y_test)\n",
        "# Almost 90% Accuracy\n",
        "\n",
        "rf = rf_model.score(X_test, Y_test) * 100"
      ],
      "execution_count": 49,
      "outputs": []
    },
    {
      "cell_type": "code",
      "metadata": {
        "id": "MydeQsJevKor"
      },
      "source": [
        "import tensorflow as tf\n",
        "def build_model():\n",
        "    model = tf.keras.Sequential([\n",
        "    tf.keras.layers.Dense(8, activation='relu', input_shape=[len(X_train.keys())]),\n",
        "    tf.keras.layers.Dense(4, activation='relu'),\n",
        "    tf.keras.layers.Dense(2, activation='relu'),\n",
        "    tf.keras.layers.Dense(1,activation='sigmoid')\n",
        "  ])\n",
        "\n",
        "    optimizer = tf.keras.optimizers.Adam(learning_rate=0.01, beta_1=0.9, beta_2=0.999, epsilon=1e-07)\n",
        "\n",
        "    model.compile(loss='binary_crossentropy', optimizer=optimizer, metrics=['accuracy'])\n",
        "    return model\n",
        "\n",
        "neural_model = build_model()"
      ],
      "execution_count": 24,
      "outputs": []
    },
    {
      "cell_type": "code",
      "metadata": {
        "id": "mN8nS6ZyvKor",
        "colab": {
          "base_uri": "https://localhost:8080/"
        },
        "outputId": "d6e7ae02-ee8d-4aa3-e823-3b2a357539c3"
      },
      "source": [
        "neural_model.summary()"
      ],
      "execution_count": 25,
      "outputs": [
        {
          "output_type": "stream",
          "text": [
            "Model: \"sequential\"\n",
            "_________________________________________________________________\n",
            "Layer (type)                 Output Shape              Param #   \n",
            "=================================================================\n",
            "dense (Dense)                (None, 8)                 72        \n",
            "_________________________________________________________________\n",
            "dense_1 (Dense)              (None, 4)                 36        \n",
            "_________________________________________________________________\n",
            "dense_2 (Dense)              (None, 2)                 10        \n",
            "_________________________________________________________________\n",
            "dense_3 (Dense)              (None, 1)                 3         \n",
            "=================================================================\n",
            "Total params: 121\n",
            "Trainable params: 121\n",
            "Non-trainable params: 0\n",
            "_________________________________________________________________\n"
          ],
          "name": "stdout"
        }
      ]
    },
    {
      "cell_type": "code",
      "metadata": {
        "id": "Blq72crKvKos",
        "colab": {
          "base_uri": "https://localhost:8080/"
        },
        "outputId": "e414c7ee-79d4-4ef9-fb06-3d7bb2d8e199"
      },
      "source": [
        "# Keeping EPOCHs high as dataset is small.\n",
        "EPOCHS = 100\n",
        "neural_pred = neural_model.fit(X_train, Y_train,epochs=EPOCHS, validation_split=0.1, verbose=2)"
      ],
      "execution_count": 26,
      "outputs": [
        {
          "output_type": "stream",
          "text": [
            "Epoch 1/100\n",
            "338/338 - 1s - loss: 0.6667 - accuracy: 0.6470 - val_loss: 0.6198 - val_accuracy: 0.6733\n",
            "Epoch 2/100\n",
            "338/338 - 0s - loss: 0.6187 - accuracy: 0.6659 - val_loss: 0.5681 - val_accuracy: 0.6733\n",
            "Epoch 3/100\n",
            "338/338 - 0s - loss: 0.5825 - accuracy: 0.6659 - val_loss: 0.5712 - val_accuracy: 0.6733\n",
            "Epoch 4/100\n",
            "338/338 - 0s - loss: 0.5703 - accuracy: 0.6659 - val_loss: 0.5605 - val_accuracy: 0.6733\n",
            "Epoch 5/100\n",
            "338/338 - 0s - loss: 0.5676 - accuracy: 0.6659 - val_loss: 0.5586 - val_accuracy: 0.6733\n",
            "Epoch 6/100\n",
            "338/338 - 0s - loss: 0.5233 - accuracy: 0.6823 - val_loss: 0.4475 - val_accuracy: 0.7583\n",
            "Epoch 7/100\n",
            "338/338 - 0s - loss: 0.4667 - accuracy: 0.7454 - val_loss: 0.4555 - val_accuracy: 0.7600\n",
            "Epoch 8/100\n",
            "338/338 - 0s - loss: 0.4686 - accuracy: 0.7422 - val_loss: 0.4324 - val_accuracy: 0.7542\n",
            "Epoch 9/100\n",
            "338/338 - 0s - loss: 0.4555 - accuracy: 0.7518 - val_loss: 0.4176 - val_accuracy: 0.7758\n",
            "Epoch 10/100\n",
            "338/338 - 0s - loss: 0.4527 - accuracy: 0.7519 - val_loss: 0.4186 - val_accuracy: 0.7725\n",
            "Epoch 11/100\n",
            "338/338 - 0s - loss: 0.4448 - accuracy: 0.7588 - val_loss: 0.4403 - val_accuracy: 0.7667\n",
            "Epoch 12/100\n",
            "338/338 - 0s - loss: 0.4433 - accuracy: 0.7599 - val_loss: 0.4133 - val_accuracy: 0.7750\n",
            "Epoch 13/100\n",
            "338/338 - 0s - loss: 0.4496 - accuracy: 0.7545 - val_loss: 0.4301 - val_accuracy: 0.7800\n",
            "Epoch 14/100\n",
            "338/338 - 0s - loss: 0.4395 - accuracy: 0.7644 - val_loss: 0.4148 - val_accuracy: 0.7800\n",
            "Epoch 15/100\n",
            "338/338 - 0s - loss: 0.4376 - accuracy: 0.7658 - val_loss: 0.4280 - val_accuracy: 0.7742\n",
            "Epoch 16/100\n",
            "338/338 - 0s - loss: 0.4402 - accuracy: 0.7628 - val_loss: 0.4563 - val_accuracy: 0.7367\n",
            "Epoch 17/100\n",
            "338/338 - 0s - loss: 0.4328 - accuracy: 0.7682 - val_loss: 0.4142 - val_accuracy: 0.7742\n",
            "Epoch 18/100\n",
            "338/338 - 0s - loss: 0.4432 - accuracy: 0.7610 - val_loss: 0.4481 - val_accuracy: 0.7517\n",
            "Epoch 19/100\n",
            "338/338 - 0s - loss: 0.4384 - accuracy: 0.7617 - val_loss: 0.4172 - val_accuracy: 0.7800\n",
            "Epoch 20/100\n",
            "338/338 - 0s - loss: 0.4327 - accuracy: 0.7666 - val_loss: 0.4224 - val_accuracy: 0.7783\n",
            "Epoch 21/100\n",
            "338/338 - 0s - loss: 0.4314 - accuracy: 0.7686 - val_loss: 0.4084 - val_accuracy: 0.7792\n",
            "Epoch 22/100\n",
            "338/338 - 0s - loss: 0.4391 - accuracy: 0.7602 - val_loss: 0.4218 - val_accuracy: 0.7625\n",
            "Epoch 23/100\n",
            "338/338 - 0s - loss: 0.4310 - accuracy: 0.7688 - val_loss: 0.4093 - val_accuracy: 0.7792\n",
            "Epoch 24/100\n",
            "338/338 - 0s - loss: 0.4338 - accuracy: 0.7644 - val_loss: 0.4094 - val_accuracy: 0.7783\n",
            "Epoch 25/100\n",
            "338/338 - 0s - loss: 0.4296 - accuracy: 0.7680 - val_loss: 0.4332 - val_accuracy: 0.7700\n",
            "Epoch 26/100\n",
            "338/338 - 0s - loss: 0.4267 - accuracy: 0.7702 - val_loss: 0.4622 - val_accuracy: 0.7392\n",
            "Epoch 27/100\n",
            "338/338 - 0s - loss: 0.4257 - accuracy: 0.7694 - val_loss: 0.4019 - val_accuracy: 0.7817\n",
            "Epoch 28/100\n",
            "338/338 - 0s - loss: 0.4259 - accuracy: 0.7707 - val_loss: 0.4064 - val_accuracy: 0.7733\n",
            "Epoch 29/100\n",
            "338/338 - 0s - loss: 0.4276 - accuracy: 0.7661 - val_loss: 0.4027 - val_accuracy: 0.7817\n",
            "Epoch 30/100\n",
            "338/338 - 0s - loss: 0.4240 - accuracy: 0.7695 - val_loss: 0.4247 - val_accuracy: 0.7733\n",
            "Epoch 31/100\n",
            "338/338 - 0s - loss: 0.4226 - accuracy: 0.7713 - val_loss: 0.4037 - val_accuracy: 0.7750\n",
            "Epoch 32/100\n",
            "338/338 - 0s - loss: 0.4288 - accuracy: 0.7670 - val_loss: 0.4062 - val_accuracy: 0.7733\n",
            "Epoch 33/100\n",
            "338/338 - 0s - loss: 0.4213 - accuracy: 0.7723 - val_loss: 0.4076 - val_accuracy: 0.7783\n",
            "Epoch 34/100\n",
            "338/338 - 0s - loss: 0.4302 - accuracy: 0.7669 - val_loss: 0.4116 - val_accuracy: 0.7667\n",
            "Epoch 35/100\n",
            "338/338 - 0s - loss: 0.4274 - accuracy: 0.7669 - val_loss: 0.4265 - val_accuracy: 0.7483\n",
            "Epoch 36/100\n",
            "338/338 - 0s - loss: 0.4232 - accuracy: 0.7705 - val_loss: 0.4340 - val_accuracy: 0.7492\n",
            "Epoch 37/100\n",
            "338/338 - 0s - loss: 0.4230 - accuracy: 0.7710 - val_loss: 0.4106 - val_accuracy: 0.7700\n",
            "Epoch 38/100\n",
            "338/338 - 0s - loss: 0.4241 - accuracy: 0.7683 - val_loss: 0.4091 - val_accuracy: 0.7775\n",
            "Epoch 39/100\n",
            "338/338 - 0s - loss: 0.4236 - accuracy: 0.7701 - val_loss: 0.4082 - val_accuracy: 0.7792\n",
            "Epoch 40/100\n",
            "338/338 - 0s - loss: 0.4231 - accuracy: 0.7695 - val_loss: 0.4036 - val_accuracy: 0.7783\n",
            "Epoch 41/100\n",
            "338/338 - 0s - loss: 0.4199 - accuracy: 0.7729 - val_loss: 0.4060 - val_accuracy: 0.7775\n",
            "Epoch 42/100\n",
            "338/338 - 0s - loss: 0.4199 - accuracy: 0.7719 - val_loss: 0.4050 - val_accuracy: 0.7767\n",
            "Epoch 43/100\n",
            "338/338 - 0s - loss: 0.4219 - accuracy: 0.7711 - val_loss: 0.4180 - val_accuracy: 0.7708\n",
            "Epoch 44/100\n",
            "338/338 - 0s - loss: 0.4183 - accuracy: 0.7728 - val_loss: 0.4025 - val_accuracy: 0.7783\n",
            "Epoch 45/100\n",
            "338/338 - 0s - loss: 0.4189 - accuracy: 0.7718 - val_loss: 0.4057 - val_accuracy: 0.7675\n",
            "Epoch 46/100\n",
            "338/338 - 0s - loss: 0.4203 - accuracy: 0.7704 - val_loss: 0.4106 - val_accuracy: 0.7742\n",
            "Epoch 47/100\n",
            "338/338 - 0s - loss: 0.4193 - accuracy: 0.7708 - val_loss: 0.4031 - val_accuracy: 0.7775\n",
            "Epoch 48/100\n",
            "338/338 - 0s - loss: 0.4166 - accuracy: 0.7731 - val_loss: 0.4117 - val_accuracy: 0.7675\n",
            "Epoch 49/100\n",
            "338/338 - 0s - loss: 0.4185 - accuracy: 0.7721 - val_loss: 0.4109 - val_accuracy: 0.7750\n",
            "Epoch 50/100\n",
            "338/338 - 0s - loss: 0.4178 - accuracy: 0.7716 - val_loss: 0.4331 - val_accuracy: 0.7625\n",
            "Epoch 51/100\n",
            "338/338 - 0s - loss: 0.4152 - accuracy: 0.7743 - val_loss: 0.4094 - val_accuracy: 0.7625\n",
            "Epoch 52/100\n",
            "338/338 - 0s - loss: 0.4152 - accuracy: 0.7739 - val_loss: 0.4074 - val_accuracy: 0.7742\n",
            "Epoch 53/100\n",
            "338/338 - 0s - loss: 0.4158 - accuracy: 0.7732 - val_loss: 0.4159 - val_accuracy: 0.7750\n",
            "Epoch 54/100\n",
            "338/338 - 0s - loss: 0.4193 - accuracy: 0.7724 - val_loss: 0.4194 - val_accuracy: 0.7642\n",
            "Epoch 55/100\n",
            "338/338 - 0s - loss: 0.4177 - accuracy: 0.7725 - val_loss: 0.4208 - val_accuracy: 0.7575\n",
            "Epoch 56/100\n",
            "338/338 - 0s - loss: 0.4161 - accuracy: 0.7727 - val_loss: 0.4620 - val_accuracy: 0.7408\n",
            "Epoch 57/100\n",
            "338/338 - 0s - loss: 0.4156 - accuracy: 0.7743 - val_loss: 0.4121 - val_accuracy: 0.7733\n",
            "Epoch 58/100\n",
            "338/338 - 0s - loss: 0.4174 - accuracy: 0.7723 - val_loss: 0.4077 - val_accuracy: 0.7767\n",
            "Epoch 59/100\n",
            "338/338 - 0s - loss: 0.4211 - accuracy: 0.7687 - val_loss: 0.4414 - val_accuracy: 0.7583\n",
            "Epoch 60/100\n",
            "338/338 - 0s - loss: 0.4156 - accuracy: 0.7742 - val_loss: 0.4226 - val_accuracy: 0.7717\n",
            "Epoch 61/100\n",
            "338/338 - 0s - loss: 0.4165 - accuracy: 0.7729 - val_loss: 0.4109 - val_accuracy: 0.7750\n",
            "Epoch 62/100\n",
            "338/338 - 0s - loss: 0.4177 - accuracy: 0.7713 - val_loss: 0.4043 - val_accuracy: 0.7775\n",
            "Epoch 63/100\n",
            "338/338 - 0s - loss: 0.4172 - accuracy: 0.7719 - val_loss: 0.4044 - val_accuracy: 0.7792\n",
            "Epoch 64/100\n",
            "338/338 - 0s - loss: 0.4152 - accuracy: 0.7729 - val_loss: 0.4025 - val_accuracy: 0.7767\n",
            "Epoch 65/100\n",
            "338/338 - 0s - loss: 0.4154 - accuracy: 0.7736 - val_loss: 0.4054 - val_accuracy: 0.7725\n",
            "Epoch 66/100\n",
            "338/338 - 0s - loss: 0.4158 - accuracy: 0.7740 - val_loss: 0.4119 - val_accuracy: 0.7750\n",
            "Epoch 67/100\n",
            "338/338 - 0s - loss: 0.4163 - accuracy: 0.7730 - val_loss: 0.4176 - val_accuracy: 0.7567\n",
            "Epoch 68/100\n",
            "338/338 - 0s - loss: 0.4170 - accuracy: 0.7719 - val_loss: 0.4112 - val_accuracy: 0.7642\n",
            "Epoch 69/100\n",
            "338/338 - 0s - loss: 0.4175 - accuracy: 0.7710 - val_loss: 0.4538 - val_accuracy: 0.7467\n",
            "Epoch 70/100\n",
            "338/338 - 0s - loss: 0.4172 - accuracy: 0.7731 - val_loss: 0.4050 - val_accuracy: 0.7758\n",
            "Epoch 71/100\n",
            "338/338 - 0s - loss: 0.4172 - accuracy: 0.7739 - val_loss: 0.4033 - val_accuracy: 0.7783\n",
            "Epoch 72/100\n",
            "338/338 - 0s - loss: 0.4166 - accuracy: 0.7726 - val_loss: 0.4046 - val_accuracy: 0.7800\n",
            "Epoch 73/100\n",
            "338/338 - 0s - loss: 0.4151 - accuracy: 0.7744 - val_loss: 0.4066 - val_accuracy: 0.7783\n",
            "Epoch 74/100\n",
            "338/338 - 0s - loss: 0.4168 - accuracy: 0.7728 - val_loss: 0.4032 - val_accuracy: 0.7733\n",
            "Epoch 75/100\n",
            "338/338 - 0s - loss: 0.4158 - accuracy: 0.7719 - val_loss: 0.4078 - val_accuracy: 0.7775\n",
            "Epoch 76/100\n",
            "338/338 - 0s - loss: 0.4150 - accuracy: 0.7734 - val_loss: 0.4039 - val_accuracy: 0.7775\n",
            "Epoch 77/100\n",
            "338/338 - 0s - loss: 0.4159 - accuracy: 0.7749 - val_loss: 0.4098 - val_accuracy: 0.7767\n",
            "Epoch 78/100\n",
            "338/338 - 0s - loss: 0.4159 - accuracy: 0.7745 - val_loss: 0.4046 - val_accuracy: 0.7767\n",
            "Epoch 79/100\n",
            "338/338 - 0s - loss: 0.4148 - accuracy: 0.7755 - val_loss: 0.4095 - val_accuracy: 0.7750\n",
            "Epoch 80/100\n",
            "338/338 - 0s - loss: 0.4184 - accuracy: 0.7718 - val_loss: 0.4052 - val_accuracy: 0.7792\n",
            "Epoch 81/100\n",
            "338/338 - 0s - loss: 0.4167 - accuracy: 0.7716 - val_loss: 0.4307 - val_accuracy: 0.7700\n",
            "Epoch 82/100\n",
            "338/338 - 0s - loss: 0.4184 - accuracy: 0.7727 - val_loss: 0.4055 - val_accuracy: 0.7758\n",
            "Epoch 83/100\n",
            "338/338 - 0s - loss: 0.4178 - accuracy: 0.7723 - val_loss: 0.4157 - val_accuracy: 0.7592\n",
            "Epoch 84/100\n",
            "338/338 - 0s - loss: 0.4154 - accuracy: 0.7731 - val_loss: 0.4216 - val_accuracy: 0.7683\n",
            "Epoch 85/100\n",
            "338/338 - 0s - loss: 0.4199 - accuracy: 0.7714 - val_loss: 0.4055 - val_accuracy: 0.7792\n",
            "Epoch 86/100\n",
            "338/338 - 0s - loss: 0.4175 - accuracy: 0.7742 - val_loss: 0.4074 - val_accuracy: 0.7792\n",
            "Epoch 87/100\n",
            "338/338 - 0s - loss: 0.4154 - accuracy: 0.7732 - val_loss: 0.4078 - val_accuracy: 0.7783\n",
            "Epoch 88/100\n",
            "338/338 - 0s - loss: 0.4173 - accuracy: 0.7729 - val_loss: 0.4094 - val_accuracy: 0.7775\n",
            "Epoch 89/100\n",
            "338/338 - 0s - loss: 0.4165 - accuracy: 0.7724 - val_loss: 0.4101 - val_accuracy: 0.7775\n",
            "Epoch 90/100\n",
            "338/338 - 0s - loss: 0.4183 - accuracy: 0.7723 - val_loss: 0.4004 - val_accuracy: 0.7800\n",
            "Epoch 91/100\n",
            "338/338 - 0s - loss: 0.4194 - accuracy: 0.7728 - val_loss: 0.4013 - val_accuracy: 0.7775\n",
            "Epoch 92/100\n",
            "338/338 - 0s - loss: 0.4195 - accuracy: 0.7731 - val_loss: 0.4051 - val_accuracy: 0.7717\n",
            "Epoch 93/100\n",
            "338/338 - 0s - loss: 0.4211 - accuracy: 0.7703 - val_loss: 0.4236 - val_accuracy: 0.7692\n",
            "Epoch 94/100\n",
            "338/338 - 0s - loss: 0.4204 - accuracy: 0.7727 - val_loss: 0.4011 - val_accuracy: 0.7758\n",
            "Epoch 95/100\n",
            "338/338 - 0s - loss: 0.4197 - accuracy: 0.7718 - val_loss: 0.4042 - val_accuracy: 0.7783\n",
            "Epoch 96/100\n",
            "338/338 - 0s - loss: 0.4186 - accuracy: 0.7732 - val_loss: 0.4036 - val_accuracy: 0.7783\n",
            "Epoch 97/100\n",
            "338/338 - 0s - loss: 0.4207 - accuracy: 0.7719 - val_loss: 0.4176 - val_accuracy: 0.7658\n",
            "Epoch 98/100\n",
            "338/338 - 0s - loss: 0.4171 - accuracy: 0.7744 - val_loss: 0.4053 - val_accuracy: 0.7783\n",
            "Epoch 99/100\n",
            "338/338 - 0s - loss: 0.4198 - accuracy: 0.7722 - val_loss: 0.4017 - val_accuracy: 0.7800\n",
            "Epoch 100/100\n",
            "338/338 - 0s - loss: 0.4191 - accuracy: 0.7727 - val_loss: 0.4016 - val_accuracy: 0.7775\n"
          ],
          "name": "stdout"
        }
      ]
    },
    {
      "cell_type": "code",
      "metadata": {
        "colab": {
          "base_uri": "https://localhost:8080/"
        },
        "id": "mpcHxMmPecOw",
        "outputId": "6967fb3b-8cee-4440-b3ac-26f5f3d65974"
      },
      "source": [
        "_, acc = neural_model.evaluate(X_test, Y_test,\n",
        "                            batch_size=64)\n",
        "print('Test accuracy:', acc)\n",
        "\n",
        "acc = acc *100"
      ],
      "execution_count": 54,
      "outputs": [
        {
          "output_type": "stream",
          "text": [
            "47/47 [==============================] - 0s 793us/step - loss: 0.4028 - accuracy: 0.7833\n",
            "Test accuracy: 0.7833333611488342\n"
          ],
          "name": "stdout"
        }
      ]
    },
    {
      "cell_type": "markdown",
      "metadata": {
        "id": "OGEom03hittB"
      },
      "source": [
        "# ¿ Cual es el mejor modelo ?"
      ]
    },
    {
      "cell_type": "code",
      "metadata": {
        "id": "VGQiNAstitbw"
      },
      "source": [
        "data = {'Modelo': ['KNN', 'Regresión Logística', 'Random Forest', 'SVM', 'Keras'],\n",
        "    'acc': [knn, lr, rf, svm, acc]}\n",
        "\n",
        "df_models = pd.DataFrame(data)"
      ],
      "execution_count": 62,
      "outputs": []
    },
    {
      "cell_type": "code",
      "metadata": {
        "colab": {
          "base_uri": "https://localhost:8080/",
          "height": 203
        },
        "id": "-PxuCek8jABy",
        "outputId": "17fbe9a9-5eca-4812-c421-7195007e5b52"
      },
      "source": [
        "df_models.sort_values(\"acc\",ascending=False,)"
      ],
      "execution_count": 69,
      "outputs": [
        {
          "output_type": "execute_result",
          "data": {
            "text/html": [
              "<div>\n",
              "<style scoped>\n",
              "    .dataframe tbody tr th:only-of-type {\n",
              "        vertical-align: middle;\n",
              "    }\n",
              "\n",
              "    .dataframe tbody tr th {\n",
              "        vertical-align: top;\n",
              "    }\n",
              "\n",
              "    .dataframe thead th {\n",
              "        text-align: right;\n",
              "    }\n",
              "</style>\n",
              "<table border=\"1\" class=\"dataframe\">\n",
              "  <thead>\n",
              "    <tr style=\"text-align: right;\">\n",
              "      <th></th>\n",
              "      <th>Modelo</th>\n",
              "      <th>acc</th>\n",
              "    </tr>\n",
              "  </thead>\n",
              "  <tbody>\n",
              "    <tr>\n",
              "      <th>2</th>\n",
              "      <td>Random Forest</td>\n",
              "      <td>90.000000</td>\n",
              "    </tr>\n",
              "    <tr>\n",
              "      <th>0</th>\n",
              "      <td>KNN</td>\n",
              "      <td>84.933333</td>\n",
              "    </tr>\n",
              "    <tr>\n",
              "      <th>3</th>\n",
              "      <td>SVM</td>\n",
              "      <td>82.266667</td>\n",
              "    </tr>\n",
              "    <tr>\n",
              "      <th>1</th>\n",
              "      <td>Regresión Logística</td>\n",
              "      <td>79.266667</td>\n",
              "    </tr>\n",
              "    <tr>\n",
              "      <th>4</th>\n",
              "      <td>Keras</td>\n",
              "      <td>78.333336</td>\n",
              "    </tr>\n",
              "  </tbody>\n",
              "</table>\n",
              "</div>"
            ],
            "text/plain": [
              "                Modelo        acc\n",
              "2        Random Forest  90.000000\n",
              "0                  KNN  84.933333\n",
              "3                  SVM  82.266667\n",
              "1  Regresión Logística  79.266667\n",
              "4                Keras  78.333336"
            ]
          },
          "metadata": {
            "tags": []
          },
          "execution_count": 69
        }
      ]
    },
    {
      "cell_type": "markdown",
      "metadata": {
        "id": "yUz_gq4Eec8y"
      },
      "source": [
        "# Serializando el mejor modelo"
      ]
    },
    {
      "cell_type": "markdown",
      "metadata": {
        "id": "OTqkKTKcehwa"
      },
      "source": [
        "El modulo pickle implementa protocolos binarios para serializar y deserializar una estructura de objetos Python. «Pickling» es el proceso mediante el cual una jerarquía de objetos de Python se convierte en una secuencia de bytes, y el «unpickling» es la operación inversa, mediante la cual una secuencia de bytes de un archivo binario (binary file) ó un objeto tipo binario (bytes-like object) es convertido nuevamente en una jerarquía de objetos. Pickling (y unpickling) son alternativamente conocidos como «serialización», «ensamblaje,»"
      ]
    },
    {
      "cell_type": "code",
      "metadata": {
        "id": "BL7E1VCDvKot"
      },
      "source": [
        "import pickle\n",
        "# Lets dump our rf_model\n",
        "pickle.dump(rf_model, open('rf_model.pkl','wb'))"
      ],
      "execution_count": 32,
      "outputs": []
    },
    {
      "cell_type": "code",
      "metadata": {
        "id": "CAwa33if81t7",
        "colab": {
          "base_uri": "https://localhost:8080/",
          "height": 80
        },
        "outputId": "6444ff82-9e22-4ac3-f7ce-660d9d7cbeb9"
      },
      "source": [
        "(X_test[2:3])"
      ],
      "execution_count": 33,
      "outputs": [
        {
          "output_type": "execute_result",
          "data": {
            "text/html": [
              "<div>\n",
              "<style scoped>\n",
              "    .dataframe tbody tr th:only-of-type {\n",
              "        vertical-align: middle;\n",
              "    }\n",
              "\n",
              "    .dataframe tbody tr th {\n",
              "        vertical-align: top;\n",
              "    }\n",
              "\n",
              "    .dataframe thead th {\n",
              "        text-align: right;\n",
              "    }\n",
              "</style>\n",
              "<table border=\"1\" class=\"dataframe\">\n",
              "  <thead>\n",
              "    <tr style=\"text-align: right;\">\n",
              "      <th></th>\n",
              "      <th>Pregnancies</th>\n",
              "      <th>PlasmaGlucose</th>\n",
              "      <th>DiastolicBloodPressure</th>\n",
              "      <th>TricepsThickness</th>\n",
              "      <th>SerumInsulin</th>\n",
              "      <th>BMI</th>\n",
              "      <th>DiabetesPedigree</th>\n",
              "      <th>Age</th>\n",
              "    </tr>\n",
              "  </thead>\n",
              "  <tbody>\n",
              "    <tr>\n",
              "      <th>13724</th>\n",
              "      <td>0</td>\n",
              "      <td>93</td>\n",
              "      <td>80</td>\n",
              "      <td>33</td>\n",
              "      <td>40</td>\n",
              "      <td>20.875334</td>\n",
              "      <td>0.1067</td>\n",
              "      <td>21</td>\n",
              "    </tr>\n",
              "  </tbody>\n",
              "</table>\n",
              "</div>"
            ],
            "text/plain": [
              "       Pregnancies  PlasmaGlucose  ...  DiabetesPedigree  Age\n",
              "13724            0             93  ...            0.1067   21\n",
              "\n",
              "[1 rows x 8 columns]"
            ]
          },
          "metadata": {
            "tags": []
          },
          "execution_count": 33
        }
      ]
    },
    {
      "cell_type": "code",
      "metadata": {
        "id": "hioRzP18vKou"
      },
      "source": [
        "pred = rf_model.predict_proba( X_test[2:3] )"
      ],
      "execution_count": 34,
      "outputs": []
    },
    {
      "cell_type": "code",
      "metadata": {
        "id": "xj68DM4Z8y8y",
        "colab": {
          "base_uri": "https://localhost:8080/"
        },
        "outputId": "6fd20c37-d8ac-4b26-bb20-4209739fdbb6"
      },
      "source": [
        "pred"
      ],
      "execution_count": 35,
      "outputs": [
        {
          "output_type": "execute_result",
          "data": {
            "text/plain": [
              "array([[0.9483709, 0.0516291]])"
            ]
          },
          "metadata": {
            "tags": []
          },
          "execution_count": 35
        }
      ]
    },
    {
      "cell_type": "code",
      "metadata": {
        "id": "4S5P86xgvKou",
        "colab": {
          "base_uri": "https://localhost:8080/"
        },
        "outputId": "a74c035e-74c4-496f-afc9-61fd590c9832"
      },
      "source": [
        "np.argmax(pred)"
      ],
      "execution_count": 36,
      "outputs": [
        {
          "output_type": "execute_result",
          "data": {
            "text/plain": [
              "0"
            ]
          },
          "metadata": {
            "tags": []
          },
          "execution_count": 36
        }
      ]
    },
    {
      "cell_type": "code",
      "metadata": {
        "id": "oXMDQEUjvKou"
      },
      "source": [
        ""
      ],
      "execution_count": 36,
      "outputs": []
    }
  ]
}